{
 "cells": [
  {
   "cell_type": "code",
   "execution_count": 1,
   "metadata": {},
   "outputs": [],
   "source": [
    "from ipyloading import loading"
   ]
  },
  {
   "cell_type": "code",
   "execution_count": 4,
   "metadata": {},
   "outputs": [
    {
     "name": "stdout",
     "output_type": "stream",
     "text": [
      "size before assigment 20\n",
      "size after assigment 20\n",
      "border before assigment 3\n",
      "border after assigment 3.0\n"
     ]
    }
   ],
   "source": [
    "ring = loading.Ring(border=3)"
   ]
  },
  {
   "cell_type": "code",
   "execution_count": 5,
   "metadata": {},
   "outputs": [
    {
     "data": {
      "application/vnd.jupyter.widget-view+json": {
       "model_id": "61b753d078e44fab9c2e0f58e116d95c",
       "version_major": 2,
       "version_minor": 0
      },
      "text/plain": [
       "Ring(value='\\n        <head>\\n          <style>\\n            \\n        .ad5fa2270-5813-4c4a-9901-a66319ac770c …"
      ]
     },
     "metadata": {},
     "output_type": "display_data"
    }
   ],
   "source": [
    "ring"
   ]
  },
  {
   "cell_type": "code",
   "execution_count": 6,
   "metadata": {},
   "outputs": [
    {
     "data": {
      "text/plain": [
       "'ad5fa2270-5813-4c4a-9901-a66319ac770c'"
      ]
     },
     "execution_count": 6,
     "metadata": {},
     "output_type": "execute_result"
    }
   ],
   "source": [
    "ring.uid"
   ]
  },
  {
   "cell_type": "code",
   "execution_count": 7,
   "metadata": {},
   "outputs": [
    {
     "data": {
      "text/plain": [
       "20"
      ]
     },
     "execution_count": 7,
     "metadata": {},
     "output_type": "execute_result"
    }
   ],
   "source": [
    "ring.size"
   ]
  },
  {
   "cell_type": "code",
   "execution_count": 8,
   "metadata": {},
   "outputs": [
    {
     "data": {
      "text/plain": [
       "'black'"
      ]
     },
     "execution_count": 8,
     "metadata": {},
     "output_type": "execute_result"
    }
   ],
   "source": [
    "ring.color"
   ]
  },
  {
   "cell_type": "code",
   "execution_count": 9,
   "metadata": {},
   "outputs": [
    {
     "data": {
      "text/plain": [
       "''"
      ]
     },
     "execution_count": 9,
     "metadata": {},
     "output_type": "execute_result"
    }
   ],
   "source": [
    "ring.background_color"
   ]
  },
  {
   "cell_type": "code",
   "execution_count": 14,
   "metadata": {},
   "outputs": [
    {
     "name": "stdout",
     "output_type": "stream",
     "text": [
      "4.0\n"
     ]
    }
   ],
   "source": [
    "print(ring.border)"
   ]
  },
  {
   "cell_type": "code",
   "execution_count": 15,
   "metadata": {},
   "outputs": [],
   "source": [
    "ring.size = 80"
   ]
  },
  {
   "cell_type": "code",
   "execution_count": 16,
   "metadata": {},
   "outputs": [],
   "source": [
    "ring.border = None"
   ]
  },
  {
   "cell_type": "code",
   "execution_count": 9,
   "metadata": {},
   "outputs": [
    {
     "name": "stdout",
     "output_type": "stream",
     "text": [
      "\n",
      "        .${css_class} {\n",
      "          display: inline-block;\n",
      "          position: relative;\n",
      "          width: ${width}px;\n",
      "          height: ${height}px;\n",
      "        }\n",
      "        .${css_class} div {\n",
      "          box-sizing: border-box;\n",
      "          display: block;\n",
      "          position: absolute;\n",
      "          width: ${inner_width}px;\n",
      "          height: ${inner_height}px;\n",
      "          margin: ${margin}px;\n",
      "          border: ${border}px solid ${color};\n",
      "          border-radius: 50%;\n",
      "          animation: ${css_class} 1.2s cubic-bezier(0.5, 0, 0.5, 1) infinite;\n",
      "          border-color: ${color} transparent transparent transparent;\n",
      "          background-color: ${background_color};\n",
      "        }\n",
      "        .${css_class} div:nth-child(1) {\n",
      "          animation-delay: -0.45s;\n",
      "        }\n",
      "        .${css_class} div:nth-child(2) {\n",
      "          animation-delay: -0.3s;\n",
      "        }\n",
      "        .${css_class} div:nth-child(3) {\n",
      "          animation-delay: -0.15s;\n",
      "        }\n",
      "        @keyframes ${css_class} {\n",
      "          0% {\n",
      "            transform: rotate(0deg);\n",
      "          }\n",
      "          100% {\n",
      "            transform: rotate(360deg);\n",
      "          }\n",
      "        }\n",
      "        \n"
     ]
    }
   ],
   "source": [
    "print(ring.css)"
   ]
  },
  {
   "cell_type": "code",
   "execution_count": 14,
   "metadata": {},
   "outputs": [
    {
     "name": "stdout",
     "output_type": "stream",
     "text": [
      "\n",
      "        <head>\n",
      "          <style>\n",
      "            \n",
      "        .ac2691b7e-4579-4291-8e36-7e5a7942be00 {\n",
      "          display: inline-block;\n",
      "          position: relative;\n",
      "          width: 64px;\n",
      "          height: 64px;\n",
      "        }\n",
      "        .ac2691b7e-4579-4291-8e36-7e5a7942be00 div {\n",
      "          box-sizing: border-box;\n",
      "          display: block;\n",
      "          position: absolute;\n",
      "          width: 51px;\n",
      "          height: 51px;\n",
      "          margin: Nonepx;\n",
      "          border: Nonepx solid red;\n",
      "          border-radius: 50%;\n",
      "          animation: ac2691b7e-4579-4291-8e36-7e5a7942be00 1.2s cubic-bezier(0.5, 0, 0.5, 1) infinite;\n",
      "          border-color: red transparent transparent transparent;\n",
      "          background-color: ;\n",
      "        }\n",
      "        .ac2691b7e-4579-4291-8e36-7e5a7942be00 div:nth-child(1) {\n",
      "          animation-delay: -0.45s;\n",
      "        }\n",
      "        .ac2691b7e-4579-4291-8e36-7e5a7942be00 div:nth-child(2) {\n",
      "          animation-delay: -0.3s;\n",
      "        }\n",
      "        .ac2691b7e-4579-4291-8e36-7e5a7942be00 div:nth-child(3) {\n",
      "          animation-delay: -0.15s;\n",
      "        }\n",
      "        @keyframes ac2691b7e-4579-4291-8e36-7e5a7942be00 {\n",
      "          0% {\n",
      "            transform: rotate(0deg);\n",
      "          }\n",
      "          100% {\n",
      "            transform: rotate(360deg);\n",
      "          }\n",
      "        }\n",
      "        \n",
      "          </style>\n",
      "        </head>\n",
      "        <body>\n",
      "          <div class=\"ac2691b7e-4579-4291-8e36-7e5a7942be00\">\n",
      "                    \n",
      "        <div></div>\n",
      "        <div></div>\n",
      "        <div></div>\n",
      "        <div></div>\n",
      "        \n",
      "          </div>\n",
      "        </body>\n",
      "        \n"
     ]
    }
   ],
   "source": [
    "print(ring.value)"
   ]
  },
  {
   "cell_type": "code",
   "execution_count": 17,
   "metadata": {},
   "outputs": [],
   "source": [
    "ring.color= 'red'"
   ]
  },
  {
   "cell_type": "code",
   "execution_count": 18,
   "metadata": {},
   "outputs": [],
   "source": [
    "ring.size=64"
   ]
  },
  {
   "cell_type": "code",
   "execution_count": 19,
   "metadata": {},
   "outputs": [],
   "source": [
    "ring.background_color = 'blue'"
   ]
  },
  {
   "cell_type": "code",
   "execution_count": 20,
   "metadata": {},
   "outputs": [
    {
     "name": "stdout",
     "output_type": "stream",
     "text": [
      "size before assigment 20\n",
      "size after assigment 20\n",
      "border before assigment 3\n",
      "border after assigment 3.0\n"
     ]
    }
   ],
   "source": [
    "ring2 = loading.Ring(border=3)"
   ]
  },
  {
   "cell_type": "code",
   "execution_count": 21,
   "metadata": {},
   "outputs": [
    {
     "data": {
      "application/vnd.jupyter.widget-view+json": {
       "model_id": "d43acb6e68224d79b05c8155a7ef02fd",
       "version_major": 2,
       "version_minor": 0
      },
      "text/plain": [
       "Ring(value='\\n        <head>\\n          <style>\\n            \\n        .aef078afc-01ba-4cc9-b6ab-cc24f361f0cd …"
      ]
     },
     "metadata": {},
     "output_type": "display_data"
    }
   ],
   "source": [
    "ring2"
   ]
  },
  {
   "cell_type": "code",
   "execution_count": null,
   "metadata": {},
   "outputs": [],
   "source": []
  }
 ],
 "metadata": {
  "kernelspec": {
   "display_name": "geepy3",
   "language": "python",
   "name": "geepy3"
  },
  "language_info": {
   "codemirror_mode": {
    "name": "ipython",
    "version": 3
   },
   "file_extension": ".py",
   "mimetype": "text/x-python",
   "name": "python",
   "nbconvert_exporter": "python",
   "pygments_lexer": "ipython3",
   "version": "3.5.2"
  }
 },
 "nbformat": 4,
 "nbformat_minor": 2
}
