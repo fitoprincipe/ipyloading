{
 "cells": [
  {
   "cell_type": "code",
   "execution_count": 1,
   "metadata": {},
   "outputs": [],
   "source": [
    "from ipyloading import loading"
   ]
  },
  {
   "cell_type": "code",
   "execution_count": 2,
   "metadata": {},
   "outputs": [],
   "source": [
    "ring = loading.Ring()"
   ]
  },
  {
   "cell_type": "code",
   "execution_count": 3,
   "metadata": {},
   "outputs": [
    {
     "data": {
      "application/vnd.jupyter.widget-view+json": {
       "model_id": "c7692a37c5a6427b9b3af7d680e2e789",
       "version_major": 2,
       "version_minor": 0
      },
      "text/plain": [
       "Ring(value='\\n        <head>\\n          <style>\\n            \\n        .aa74e4c64-b982-4a69-9c80-d6d8f6f417e7 …"
      ]
     },
     "metadata": {},
     "output_type": "display_data"
    }
   ],
   "source": [
    "ring"
   ]
  },
  {
   "cell_type": "code",
   "execution_count": 4,
   "metadata": {},
   "outputs": [
    {
     "data": {
      "text/plain": [
       "'aa74e4c64-b982-4a69-9c80-d6d8f6f417e7'"
      ]
     },
     "execution_count": 4,
     "metadata": {},
     "output_type": "execute_result"
    }
   ],
   "source": [
    "ring.uid"
   ]
  },
  {
   "cell_type": "code",
   "execution_count": 5,
   "metadata": {},
   "outputs": [
    {
     "data": {
      "text/plain": [
       "20"
      ]
     },
     "execution_count": 5,
     "metadata": {},
     "output_type": "execute_result"
    }
   ],
   "source": [
    "ring.size"
   ]
  },
  {
   "cell_type": "code",
   "execution_count": 6,
   "metadata": {},
   "outputs": [
    {
     "data": {
      "text/plain": [
       "'black'"
      ]
     },
     "execution_count": 6,
     "metadata": {},
     "output_type": "execute_result"
    }
   ],
   "source": [
    "ring.color"
   ]
  },
  {
   "cell_type": "code",
   "execution_count": 7,
   "metadata": {},
   "outputs": [
    {
     "data": {
      "text/plain": [
       "''"
      ]
     },
     "execution_count": 7,
     "metadata": {},
     "output_type": "execute_result"
    }
   ],
   "source": [
    "ring.background_color"
   ]
  },
  {
   "cell_type": "code",
   "execution_count": 8,
   "metadata": {},
   "outputs": [
    {
     "name": "stdout",
     "output_type": "stream",
     "text": [
      "None\n"
     ]
    }
   ],
   "source": [
    "print(ring.border)"
   ]
  },
  {
   "cell_type": "code",
   "execution_count": 9,
   "metadata": {},
   "outputs": [
    {
     "name": "stdout",
     "output_type": "stream",
     "text": [
      "\n",
      "        .${css_class} {\n",
      "          display: inline-block;\n",
      "          position: relative;\n",
      "          width: ${width}px;\n",
      "          height: ${height}px;\n",
      "        }\n",
      "        .${css_class} div {\n",
      "          box-sizing: border-box;\n",
      "          display: block;\n",
      "          position: absolute;\n",
      "          width: ${inner_width}px;\n",
      "          height: ${inner_height}px;\n",
      "          margin: ${margin}px;\n",
      "          border: ${border}px solid ${color};\n",
      "          border-radius: 50%;\n",
      "          animation: ${css_class} 1.2s cubic-bezier(0.5, 0, 0.5, 1) infinite;\n",
      "          border-color: ${color} transparent transparent transparent;\n",
      "          background-color: ${background_color};\n",
      "        }\n",
      "        .${css_class} div:nth-child(1) {\n",
      "          animation-delay: -0.45s;\n",
      "        }\n",
      "        .${css_class} div:nth-child(2) {\n",
      "          animation-delay: -0.3s;\n",
      "        }\n",
      "        .${css_class} div:nth-child(3) {\n",
      "          animation-delay: -0.15s;\n",
      "        }\n",
      "        @keyframes ${css_class} {\n",
      "          0% {\n",
      "            transform: rotate(0deg);\n",
      "          }\n",
      "          100% {\n",
      "            transform: rotate(360deg);\n",
      "          }\n",
      "        }\n",
      "        \n"
     ]
    }
   ],
   "source": [
    "print(ring.css)"
   ]
  },
  {
   "cell_type": "code",
   "execution_count": 10,
   "metadata": {},
   "outputs": [
    {
     "name": "stdout",
     "output_type": "stream",
     "text": [
      "\n",
      "        <head>\n",
      "          <style>\n",
      "            \n",
      "        .aa74e4c64-b982-4a69-9c80-d6d8f6f417e7 {\n",
      "          display: inline-block;\n",
      "          position: relative;\n",
      "          width: 20px;\n",
      "          height: 20px;\n",
      "        }\n",
      "        .aa74e4c64-b982-4a69-9c80-d6d8f6f417e7 div {\n",
      "          box-sizing: border-box;\n",
      "          display: block;\n",
      "          position: absolute;\n",
      "          width: 16px;\n",
      "          height: 16px;\n",
      "          margin: 2px;\n",
      "          border: 2px solid black;\n",
      "          border-radius: 50%;\n",
      "          animation: aa74e4c64-b982-4a69-9c80-d6d8f6f417e7 1.2s cubic-bezier(0.5, 0, 0.5, 1) infinite;\n",
      "          border-color: black transparent transparent transparent;\n",
      "          background-color: ;\n",
      "        }\n",
      "        .aa74e4c64-b982-4a69-9c80-d6d8f6f417e7 div:nth-child(1) {\n",
      "          animation-delay: -0.45s;\n",
      "        }\n",
      "        .aa74e4c64-b982-4a69-9c80-d6d8f6f417e7 div:nth-child(2) {\n",
      "          animation-delay: -0.3s;\n",
      "        }\n",
      "        .aa74e4c64-b982-4a69-9c80-d6d8f6f417e7 div:nth-child(3) {\n",
      "          animation-delay: -0.15s;\n",
      "        }\n",
      "        @keyframes aa74e4c64-b982-4a69-9c80-d6d8f6f417e7 {\n",
      "          0% {\n",
      "            transform: rotate(0deg);\n",
      "          }\n",
      "          100% {\n",
      "            transform: rotate(360deg);\n",
      "          }\n",
      "        }\n",
      "        \n",
      "          </style>\n",
      "        </head>\n",
      "        <body>\n",
      "          <div class=\"aa74e4c64-b982-4a69-9c80-d6d8f6f417e7\">\n",
      "                    \n",
      "        <div></div>\n",
      "        <div></div>\n",
      "        <div></div>\n",
      "        <div></div>\n",
      "        \n",
      "          </div>\n",
      "        </body>\n",
      "        \n"
     ]
    }
   ],
   "source": [
    "print(ring.value)"
   ]
  },
  {
   "cell_type": "code",
   "execution_count": 11,
   "metadata": {},
   "outputs": [],
   "source": [
    "ring.color= 'red'"
   ]
  },
  {
   "cell_type": "code",
   "execution_count": 12,
   "metadata": {},
   "outputs": [],
   "source": [
    "ring.size=64"
   ]
  },
  {
   "cell_type": "code",
   "execution_count": 13,
   "metadata": {},
   "outputs": [],
   "source": [
    "ring.background_color = 'blue'"
   ]
  },
  {
   "cell_type": "code",
   "execution_count": 14,
   "metadata": {},
   "outputs": [],
   "source": [
    "ring2 = loading.Ring(border=3)"
   ]
  },
  {
   "cell_type": "code",
   "execution_count": 15,
   "metadata": {},
   "outputs": [
    {
     "data": {
      "application/vnd.jupyter.widget-view+json": {
       "model_id": "3c76d70c834242c4a7f6adf93b86c0a2",
       "version_major": 2,
       "version_minor": 0
      },
      "text/plain": [
       "Ring(value='\\n        <head>\\n          <style>\\n            \\n        .a6d37f786-5f4a-4ff0-b28c-6b24bd1a93d4 …"
      ]
     },
     "metadata": {},
     "output_type": "display_data"
    }
   ],
   "source": [
    "ring2"
   ]
  },
  {
   "cell_type": "code",
   "execution_count": null,
   "metadata": {},
   "outputs": [],
   "source": []
  }
 ],
 "metadata": {
  "kernelspec": {
   "display_name": "geepy3",
   "language": "python",
   "name": "geepy3"
  },
  "language_info": {
   "codemirror_mode": {
    "name": "ipython",
    "version": 3
   },
   "file_extension": ".py",
   "mimetype": "text/x-python",
   "name": "python",
   "nbconvert_exporter": "python",
   "pygments_lexer": "ipython3",
   "version": "3.5.2"
  }
 },
 "nbformat": 4,
 "nbformat_minor": 2
}
